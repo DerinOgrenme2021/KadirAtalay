{
  "nbformat": 4,
  "nbformat_minor": 0,
  "metadata": {
    "colab": {
      "name": "LFWface.ipynb",
      "provenance": [],
      "toc_visible": true,
      "authorship_tag": "ABX9TyNAyzcn3FXj00bAjWm/saCe",
      "include_colab_link": true
    },
    "kernelspec": {
      "name": "python3",
      "display_name": "Python 3"
    },
    "language_info": {
      "name": "python"
    }
  },
  "cells": [
    {
      "cell_type": "markdown",
      "metadata": {
        "id": "view-in-github",
        "colab_type": "text"
      },
      "source": [
        "<a href=\"https://colab.research.google.com/github/DerinOgrenme2021/KadirAtalay/blob/main/LFWface.ipynb\" target=\"_parent\"><img src=\"https://colab.research.google.com/assets/colab-badge.svg\" alt=\"Open In Colab\"/></a>"
      ]
    },
    {
      "cell_type": "code",
      "metadata": {
        "id": "W-MbGTi87Of8"
      },
      "source": [
        "!wget http://vis-www.cs.umass.edu/lfw/lfw-a.tgz\n",
        "#Öncelikle tgz dosyasını colab yüklüyoruz."
      ],
      "execution_count": null,
      "outputs": []
    },
    {
      "cell_type": "code",
      "metadata": {
        "id": "rdD_Rco97Uwn"
      },
      "source": [
        "!tar xvzf lfw-a.tgz\n",
        "#tgz içindeki resimleri çıkartıyoruz."
      ],
      "execution_count": null,
      "outputs": []
    },
    {
      "cell_type": "code",
      "metadata": {
        "colab": {
          "base_uri": "https://localhost:8080/"
        },
        "id": "3_EU7DRo7ogN",
        "outputId": "42377ef1-4d96-452f-8f49-1b44674e9f39"
      },
      "source": [
        "import cv2\n",
        "import glob\n",
        "import numpy as np\n",
        "import skimage.io\n",
        "\n",
        "image100 = [cv2.imread(file) for file in glob.glob('lfw/*/*.jpg')]#ıfw dosyanın içindeki bütün jpg resimleri okutuyoruz.\n",
        "image100=image100[150:250]#150.index ile 250.index arasındaaki 100 resmi seçiyoruz.\n",
        "\n",
        "imagenp =np.zeros([250,250,3],dtype= np.float64)\n",
        "\n",
        "for img in image100:\n",
        "  imagenp=Imagenp+img\n",
        "\n",
        "imagenp/=100\n",
        "skimage.io.imsave(\"Image150-250.jpg\",imagenp)"
      ],
      "execution_count": 8,
      "outputs": [
        {
          "output_type": "stream",
          "text": [
            "WARNING:root:Lossy conversion from float64 to uint8. Range [47.81, 201.86]. Convert image to uint8 prior to saving to suppress this warning.\n"
          ],
          "name": "stderr"
        }
      ]
    }
  ]
}