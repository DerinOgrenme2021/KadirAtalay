{
  "nbformat": 4,
  "nbformat_minor": 0,
  "metadata": {
    "colab": {
      "name": "kadiratalay-classification.ipynb",
      "provenance": [],
      "collapsed_sections": [],
      "authorship_tag": "ABX9TyN9DRXrcKIl+eJ/tipn/6l9",
      "include_colab_link": true
    },
    "kernelspec": {
      "name": "python3",
      "display_name": "Python 3"
    },
    "language_info": {
      "name": "python"
    }
  },
  "cells": [
    {
      "cell_type": "markdown",
      "metadata": {
        "id": "view-in-github",
        "colab_type": "text"
      },
      "source": [
        "<a href=\"https://colab.research.google.com/github/DerinOgrenme2021/KadirAtalay/blob/main/kadiratalay_classification.ipynb\" target=\"_parent\"><img src=\"https://colab.research.google.com/assets/colab-badge.svg\" alt=\"Open In Colab\"/></a>"
      ]
    },
    {
      "cell_type": "code",
      "metadata": {
        "id": "anUMiJv5Ukxv"
      },
      "source": [
        "from sklearn.datasets  import load_iris\n",
        "from sklearn.model_selection import train_test_split\n",
        "from sklearn.naive_bayes import GaussianNB\n",
        "X, y = load_iris(return_X_y = True)\n",
        "X_train,X_test ,y_train,y_test=train_test_split(X,y,test_size=0.2)"
      ],
      "execution_count": 1,
      "outputs": []
    },
    {
      "cell_type": "code",
      "metadata": {
        "id": "SF3t_iGbUtUd"
      },
      "source": [
        "from sklearn import svm\n",
        "\n",
        "clf = svm.SVC()\n",
        "clf.fit(X_train,y_train)"
      ],
      "execution_count": null,
      "outputs": []
    },
    {
      "cell_type": "code",
      "metadata": {
        "colab": {
          "base_uri": "https://localhost:8080/"
        },
        "id": "gbgCPKYNVIEM",
        "outputId": "ec833c1d-a9b7-47be-fa7c-227bf0b3618f"
      },
      "source": [
        "y_predict =clf.predict(X_test)\n",
        "y_predict"
      ],
      "execution_count": 9,
      "outputs": [
        {
          "output_type": "execute_result",
          "data": {
            "text/plain": [
              "array([0, 0, 2, 2, 1, 1, 1, 2, 1, 1, 2, 1, 1, 2, 0, 0, 2, 1, 2, 2, 0, 0,\n",
              "       2, 1, 1, 2, 2, 0, 2, 0])"
            ]
          },
          "metadata": {
            "tags": []
          },
          "execution_count": 9
        }
      ]
    },
    {
      "cell_type": "code",
      "metadata": {
        "colab": {
          "base_uri": "https://localhost:8080/"
        },
        "id": "Px-FIdODVXZD",
        "outputId": "8d589279-2bd2-4b33-81f9-1fa29e039452"
      },
      "source": [
        "y_test"
      ],
      "execution_count": 10,
      "outputs": [
        {
          "output_type": "execute_result",
          "data": {
            "text/plain": [
              "array([0, 0, 2, 2, 1, 1, 1, 2, 1, 1, 2, 1, 1, 2, 0, 0, 2, 1, 2, 2, 0, 0,\n",
              "       2, 1, 1, 2, 2, 0, 2, 0])"
            ]
          },
          "metadata": {
            "tags": []
          },
          "execution_count": 10
        }
      ]
    },
    {
      "cell_type": "code",
      "metadata": {
        "colab": {
          "base_uri": "https://localhost:8080/"
        },
        "id": "i03Ng3isVaNx",
        "outputId": "ffc1d646-6361-471f-b8ee-41cda6393d0e"
      },
      "source": [
        "from  sklearn.metrics import accuracy_score,precision_score\n",
        "accuracy_score(y_test,y_predict)"
      ],
      "execution_count": 11,
      "outputs": [
        {
          "output_type": "execute_result",
          "data": {
            "text/plain": [
              "1.0"
            ]
          },
          "metadata": {
            "tags": []
          },
          "execution_count": 11
        }
      ]
    },
    {
      "cell_type": "code",
      "metadata": {
        "id": "BONt8eTrWaT2"
      },
      "source": [
        "from sklearn.linear_model import SGDClassifier\n",
        "\n",
        "sgd = SGDClassifier(loss=\"hinge\", penalty=\"l2\", max_iter=5)\n",
        "\n",
        "sgd.fit(X_train,y_train)\n"
      ],
      "execution_count": null,
      "outputs": []
    },
    {
      "cell_type": "code",
      "metadata": {
        "colab": {
          "base_uri": "https://localhost:8080/"
        },
        "id": "WLDS9IE5Wxgy",
        "outputId": "78cfaf1d-f5ed-4a05-b806-de6adfb812a0"
      },
      "source": [
        "y_predict =sgd.predict(X_test)\n",
        "y_predict"
      ],
      "execution_count": 19,
      "outputs": [
        {
          "output_type": "execute_result",
          "data": {
            "text/plain": [
              "array([0, 0, 0, 2, 0, 1, 0, 2, 0, 0, 2, 1, 0, 2, 0, 0, 2, 0, 2, 2, 0, 0,\n",
              "       0, 0, 0, 2, 2, 0, 2, 0])"
            ]
          },
          "metadata": {
            "tags": []
          },
          "execution_count": 19
        }
      ]
    },
    {
      "cell_type": "code",
      "metadata": {
        "colab": {
          "base_uri": "https://localhost:8080/"
        },
        "id": "JyLyCdL-W2kV",
        "outputId": "c64c847a-5d42-4047-e6c2-55735e29a3fe"
      },
      "source": [
        "y_test"
      ],
      "execution_count": 20,
      "outputs": [
        {
          "output_type": "execute_result",
          "data": {
            "text/plain": [
              "array([0, 0, 2, 2, 1, 1, 1, 2, 1, 1, 2, 1, 1, 2, 0, 0, 2, 1, 2, 2, 0, 0,\n",
              "       2, 1, 1, 2, 2, 0, 2, 0])"
            ]
          },
          "metadata": {
            "tags": []
          },
          "execution_count": 20
        }
      ]
    },
    {
      "cell_type": "code",
      "metadata": {
        "colab": {
          "base_uri": "https://localhost:8080/"
        },
        "id": "sL74ZoZfW5dr",
        "outputId": "38a94fc0-2bee-4ec1-d16f-d4b3bd60b9e1"
      },
      "source": [
        "from  sklearn.metrics import accuracy_score,precision_score\n",
        "accuracy_score(y_test,y_predict)"
      ],
      "execution_count": 21,
      "outputs": [
        {
          "output_type": "execute_result",
          "data": {
            "text/plain": [
              "0.6666666666666666"
            ]
          },
          "metadata": {
            "tags": []
          },
          "execution_count": 21
        }
      ]
    },
    {
      "cell_type": "code",
      "metadata": {
        "id": "FKzIh7BoXgvK"
      },
      "source": [
        "from sklearn.multiclass import OneVsRestClassifier\n",
        "from sklearn.svm import LinearSVC\n",
        "\n",
        "one = OneVsRestClassifier(LinearSVC(random_state=0))\n",
        "one.fit(X_train,y_train)"
      ],
      "execution_count": null,
      "outputs": []
    },
    {
      "cell_type": "code",
      "metadata": {
        "colab": {
          "base_uri": "https://localhost:8080/"
        },
        "id": "FBIlXYEdYHHb",
        "outputId": "776f6b7e-55be-42aa-f282-1bb040ccb98a"
      },
      "source": [
        "y_predict =one.predict(X_test)\n",
        "y_predict"
      ],
      "execution_count": 27,
      "outputs": [
        {
          "output_type": "execute_result",
          "data": {
            "text/plain": [
              "array([0, 0, 2, 2, 1, 1, 2, 2, 1, 1, 2, 1, 1, 2, 0, 0, 2, 1, 2, 2, 0, 0,\n",
              "       2, 1, 1, 2, 2, 0, 2, 0])"
            ]
          },
          "metadata": {
            "tags": []
          },
          "execution_count": 27
        }
      ]
    },
    {
      "cell_type": "code",
      "metadata": {
        "colab": {
          "base_uri": "https://localhost:8080/"
        },
        "id": "zwb8pHcVYMe6",
        "outputId": "92be2c17-73d8-452d-ce93-ba11a6b099b0"
      },
      "source": [
        "y_test"
      ],
      "execution_count": 28,
      "outputs": [
        {
          "output_type": "execute_result",
          "data": {
            "text/plain": [
              "array([0, 0, 2, 2, 1, 1, 1, 2, 1, 1, 2, 1, 1, 2, 0, 0, 2, 1, 2, 2, 0, 0,\n",
              "       2, 1, 1, 2, 2, 0, 2, 0])"
            ]
          },
          "metadata": {
            "tags": []
          },
          "execution_count": 28
        }
      ]
    },
    {
      "cell_type": "code",
      "metadata": {
        "colab": {
          "base_uri": "https://localhost:8080/"
        },
        "id": "ZDL_qSqgYSLi",
        "outputId": "82ee0852-95cb-4814-e7d7-1e5e7bec6c30"
      },
      "source": [
        "from  sklearn.metrics import accuracy_score,precision_score\n",
        "accuracy_score(y_test,y_predict)"
      ],
      "execution_count": 29,
      "outputs": [
        {
          "output_type": "execute_result",
          "data": {
            "text/plain": [
              "0.9666666666666667"
            ]
          },
          "metadata": {
            "tags": []
          },
          "execution_count": 29
        }
      ]
    }
  ]
}