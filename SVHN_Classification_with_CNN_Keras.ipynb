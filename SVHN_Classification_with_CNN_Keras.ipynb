{
  "nbformat": 4,
  "nbformat_minor": 0,
  "metadata": {
    "colab": {
      "name": " SVHN Classification with CNN-Keras.ipynb",
      "provenance": [],
      "authorship_tag": "ABX9TyMyLQvKaQLz1rx29BdyHEty",
      "include_colab_link": true
    },
    "kernelspec": {
      "name": "python3",
      "display_name": "Python 3"
    },
    "language_info": {
      "name": "python"
    }
  },
  "cells": [
    {
      "cell_type": "markdown",
      "metadata": {
        "id": "view-in-github",
        "colab_type": "text"
      },
      "source": [
        "<a href=\"https://colab.research.google.com/github/DerinOgrenme2021/KadirAtalay/blob/main/SVHN_Classification_with_CNN_Keras.ipynb\" target=\"_parent\"><img src=\"https://colab.research.google.com/assets/colab-badge.svg\" alt=\"Open In Colab\"/></a>"
      ]
    },
    {
      "cell_type": "code",
      "metadata": {
        "id": "LUUPJxF78uH2"
      },
      "source": [
        "import numpy as np\n",
        "import keras\n",
        "import seaborn as sns\n",
        "from matplotlib import pyplot as plt\n",
        "from scipy.io import loadmat\n",
        "from sklearn.model_selection import train_test_split\n",
        "from sklearn.preprocessing import LabelBinarizer\n",
        "from sklearn.metrics import confusion_matrix\n",
        "from keras.preprocessing.image import ImageDataGenerator\n",
        "%matplotlib inline\n",
        "import cv2\n",
        "import glob"
      ],
      "execution_count": 14,
      "outputs": []
    },
    {
      "cell_type": "code",
      "metadata": {
        "id": "lTb6UynV831a"
      },
      "source": [
        "np.random.seed(20)"
      ],
      "execution_count": 16,
      "outputs": []
    },
    {
      "cell_type": "code",
      "metadata": {
        "id": "fhhHazXg9Cnw"
      },
      "source": [
        "train_raw = loadmat('SHVN/train_32x32.mat')\n",
        "test_raw = loadmat('SHVN/test_32x32.mat')"
      ],
      "execution_count": 18,
      "outputs": []
    },
    {
      "cell_type": "code",
      "metadata": {
        "id": "4NczmS0G_pWg"
      },
      "source": [
        "train_images = np.array(train_raw['X'])\n",
        "test_images = np.array(test_raw['X'])\n",
        "\n",
        "train_labels = train_raw['y']\n",
        "test_labels = test_raw['y']"
      ],
      "execution_count": 19,
      "outputs": []
    },
    {
      "cell_type": "code",
      "metadata": {
        "colab": {
          "base_uri": "https://localhost:8080/"
        },
        "id": "okJCX3nQ_99W",
        "outputId": "917a8bee-a601-46e5-e0b7-89211208bdbc"
      },
      "source": [
        "print(train_images.shape)\n",
        "print(test_images.shape)"
      ],
      "execution_count": 20,
      "outputs": [
        {
          "output_type": "stream",
          "text": [
            "(32, 32, 3, 73257)\n",
            "(32, 32, 3, 26032)\n"
          ],
          "name": "stdout"
        }
      ]
    },
    {
      "cell_type": "code",
      "metadata": {
        "colab": {
          "base_uri": "https://localhost:8080/"
        },
        "id": "26g95Y2MAfiU",
        "outputId": "e0f6692a-877b-480a-d7d1-772fca4b4e43"
      },
      "source": [
        "train_images = np.moveaxis(train_images, -1, 0)\n",
        "test_images = np.moveaxis(test_images, -1, 0)\n",
        "\n",
        "print(train_images.shape)\n",
        "print(test_images.shape)"
      ],
      "execution_count": 21,
      "outputs": [
        {
          "output_type": "stream",
          "text": [
            "(73257, 32, 32, 3)\n",
            "(26032, 32, 32, 3)\n"
          ],
          "name": "stdout"
        }
      ]
    },
    {
      "cell_type": "code",
      "metadata": {
        "colab": {
          "base_uri": "https://localhost:8080/",
          "height": 284
        },
        "id": "5YTokTGWA087",
        "outputId": "027b2dff-c8fb-4662-9ffe-6c2879a8e747"
      },
      "source": [
        "plt.imshow(train_images[13529])\n",
        "plt.show()\n",
        "\n",
        "print('Label: ', train_labels[13529])"
      ],
      "execution_count": 22,
      "outputs": [
        {
          "output_type": "display_data",
          "data": {
            "image/png": "[encoded data removed]",
            "text/plain": [
              "<Figure size 432x288 with 1 Axes>"
            ]
          },
          "metadata": {
            "tags": [],
            "needs_background": "light"
          }
        },
        {
          "output_type": "stream",
          "text": [
            "Label:  [5]\n"
          ],
          "name": "stdout"
        }
      ]
    },
    {
      "cell_type": "code",
      "metadata": {
        "id": "V8169sGAB1N3"
      },
      "source": [
        "train_images = train_images.astype('float64')\n",
        "test_images = test_images.astype('float64')"
      ],
      "execution_count": 23,
      "outputs": []
    },
    {
      "cell_type": "code",
      "metadata": {
        "id": "56IrFS60PkI2"
      },
      "source": [
        "train_labels = train_labels.astype('int64')\n",
        "test_labels = test_labels.astype('int64')\n"
      ],
      "execution_count": 24,
      "outputs": []
    },
    {
      "cell_type": "code",
      "metadata": {
        "colab": {
          "base_uri": "https://localhost:8080/"
        },
        "id": "9LkOWPRfPo-y",
        "outputId": "b04419c0-568f-432b-d638-5977eb40aa0a"
      },
      "source": [
        "print('Min: {}, Max: {}'.format(train_images.min(), train_images.max()))\n",
        "\n",
        "train_images /=  225.0\n",
        "test_images /=  255.0\n"
      ],
      "execution_count": 25,
      "outputs": [
        {
          "output_type": "stream",
          "text": [
            "Min: 0.0, Max: 255.0\n"
          ],
          "name": "stdout"
        }
      ]
    },
    {
      "cell_type": "code",
      "metadata": {
        "id": "I0RolAkiQMB4"
      },
      "source": [
        "lb = LabelBinarizer()\n",
        "train_labels = lb.fit_transform(train_labels)\n",
        "test_labels = lb.fit_transform(test_labels)\n"
      ],
      "execution_count": 26,
      "outputs": []
    },
    {
      "cell_type": "code",
      "metadata": {
        "id": "S48lxw20QX2a"
      },
      "source": [
        "X_train, X_val, y_train, y_val = train_test_split(train_images, train_labels,\n",
        "                                                  test_size=0.15, random_state=22)"
      ],
      "execution_count": 27,
      "outputs": []
    },
    {
      "cell_type": "code",
      "metadata": {
        "colab": {
          "base_uri": "https://localhost:8080/"
        },
        "id": "LzwsQi0jQZEL",
        "outputId": "b84fb04f-7efb-4f22-a582-5af9ec083033"
      },
      "source": [
        "y_val.shape"
      ],
      "execution_count": 28,
      "outputs": [
        {
          "output_type": "execute_result",
          "data": {
            "text/plain": [
              "(10989, 10)"
            ]
          },
          "metadata": {
            "tags": []
          },
          "execution_count": 28
        }
      ]
    },
    {
      "cell_type": "code",
      "metadata": {
        "id": "xELxaQzgQbpK"
      },
      "source": [
        "datagen = ImageDataGenerator(rotation_range=8,\n",
        "                             zoom_range=[0.95, 1.05],\n",
        "                             height_shift_range=0.10,\n",
        "                             shear_range=0.15)"
      ],
      "execution_count": 29,
      "outputs": []
    },
    {
      "cell_type": "code",
      "metadata": {
        "id": "R37Njnu0QwSN"
      },
      "source": [
        "keras.backend.clear_session()\n",
        "\n",
        "aux_model = keras.Sequential([\n",
        "    keras.layers.Conv2D(32, (3, 3), padding='same', \n",
        "                           activation='relu',\n",
        "                           input_shape=(32, 32, 3)),\n",
        "    keras.layers.BatchNormalization(),\n",
        "    keras.layers.Conv2D(32, (3, 3), padding='same', \n",
        "                        activation='relu'),\n",
        "    keras.layers.MaxPooling2D((2, 2)),\n",
        "    keras.layers.Dropout(0.3),\n",
        "    \n",
        "    keras.layers.Conv2D(64, (3, 3), padding='same', \n",
        "                           activation='relu'),\n",
        "    keras.layers.BatchNormalization(),\n",
        "    keras.layers.Conv2D(64, (3, 3), padding='same',\n",
        "                        activation='relu'),\n",
        "    keras.layers.MaxPooling2D((2, 2)),\n",
        "    keras.layers.Dropout(0.3),\n",
        "    \n",
        "    keras.layers.Conv2D(128, (3, 3), padding='same', \n",
        "                           activation='relu'),\n",
        "    keras.layers.BatchNormalization(),\n",
        "    keras.layers.Conv2D(128, (3, 3), padding='same',\n",
        "                        activation='relu'),\n",
        "    keras.layers.MaxPooling2D((2, 2)),\n",
        "    keras.layers.Dropout(0.3),\n",
        "    \n",
        "    keras.layers.Flatten(),\n",
        "    keras.layers.Dense(128, activation='relu'),\n",
        "    keras.layers.Dropout(0.4),    \n",
        "    keras.layers.Dense(10,  activation='softmax')\n",
        "])\n",
        "\n",
        "lr_schedule = keras.callbacks.LearningRateScheduler(\n",
        "              lambda epoch: 1e-4 * 10**(epoch / 10))\n",
        "optimizer = keras.optimizers.Adam(learning_rate=1e-4, amsgrad=True)\n",
        "aux_model.compile(optimizer=optimizer,\n",
        "                  loss='categorical_crossentropy',\n",
        "                 metrics=['accuracy'])"
      ],
      "execution_count": null,
      "outputs": []
    },
    {
      "cell_type": "code",
      "metadata": {
        "id": "ibiWjahRRR5V",
        "colab": {
          "base_uri": "https://localhost:8080/"
        },
        "outputId": "be5a7fd1-d70d-450b-f619-757fba1b960d"
      },
      "source": [
        "history = aux_model.fit(datagen.flow(X_train, y_train, batch_size=128),\n",
        "                              epochs=30, validation_data=(X_val, y_val),\n",
        "                              callbacks=[lr_schedule])"
      ],
      "execution_count": null,
      "outputs": [
        {
          "output_type": "stream",
          "text": [
            "Epoch 1/30\n",
            "487/487 [==============================] - 547s 1s/step - loss: 2.4979 - accuracy: 0.1432 - val_loss: 2.2360 - val_accuracy: 0.1949\n",
            "Epoch 2/30\n",
            "487/487 [==============================] - 527s 1s/step - loss: 2.2392 - accuracy: 0.1836 - val_loss: 1.9860 - val_accuracy: 0.3220\n",
            "Epoch 3/30\n",
            "487/487 [==============================] - 525s 1s/step - loss: 1.8925 - accuracy: 0.3328 - val_loss: 0.9031 - val_accuracy: 0.7234\n",
            "Epoch 4/30\n",
            "487/487 [==============================] - 524s 1s/step - loss: 1.1520 - accuracy: 0.6212 - val_loss: 0.5352 - val_accuracy: 0.8395\n",
            "Epoch 5/30\n",
            "487/487 [==============================] - 520s 1s/step - loss: 0.8338 - accuracy: 0.7344 - val_loss: 0.3946 - val_accuracy: 0.8827\n",
            "Epoch 6/30\n",
            "487/487 [==============================] - 525s 1s/step - loss: 0.6594 - accuracy: 0.7931 - val_loss: 0.3458 - val_accuracy: 0.8967\n",
            "Epoch 7/30\n",
            "487/487 [==============================] - 523s 1s/step - loss: 0.5625 - accuracy: 0.8284 - val_loss: 0.2997 - val_accuracy: 0.9114\n",
            "Epoch 8/30\n",
            "487/487 [==============================] - 521s 1s/step - loss: 0.4818 - accuracy: 0.8549 - val_loss: 0.3174 - val_accuracy: 0.9037\n",
            "Epoch 9/30\n",
            "487/487 [==============================] - 524s 1s/step - loss: 0.4396 - accuracy: 0.8688 - val_loss: 0.2867 - val_accuracy: 0.9156\n",
            "Epoch 10/30\n",
            "487/487 [==============================] - 519s 1s/step - loss: 0.3998 - accuracy: 0.8791 - val_loss: 0.2942 - val_accuracy: 0.9155\n",
            "Epoch 11/30\n",
            "487/487 [==============================] - 517s 1s/step - loss: 0.3791 - accuracy: 0.8892 - val_loss: 0.2649 - val_accuracy: 0.9239\n",
            "Epoch 12/30\n",
            "487/487 [==============================] - 519s 1s/step - loss: 0.3594 - accuracy: 0.8934 - val_loss: 0.2934 - val_accuracy: 0.9134\n",
            "Epoch 13/30\n",
            "487/487 [==============================] - 524s 1s/step - loss: 0.3617 - accuracy: 0.8953 - val_loss: 0.2451 - val_accuracy: 0.9306\n",
            "Epoch 14/30\n",
            "487/487 [==============================] - 517s 1s/step - loss: 0.3457 - accuracy: 0.8987 - val_loss: 0.2753 - val_accuracy: 0.9234\n",
            "Epoch 15/30\n",
            "487/487 [==============================] - 531s 1s/step - loss: 0.3374 - accuracy: 0.9033 - val_loss: 0.2478 - val_accuracy: 0.9342\n",
            "Epoch 16/30\n",
            "487/487 [==============================] - 522s 1s/step - loss: 0.3373 - accuracy: 0.9022 - val_loss: 0.2754 - val_accuracy: 0.9211\n",
            "Epoch 17/30\n",
            "487/487 [==============================] - 526s 1s/step - loss: 0.3489 - accuracy: 0.8990 - val_loss: 0.2341 - val_accuracy: 0.9377\n",
            "Epoch 18/30\n",
            "487/487 [==============================] - 533s 1s/step - loss: 0.3619 - accuracy: 0.8970 - val_loss: 0.3173 - val_accuracy: 0.9108\n",
            "Epoch 19/30\n",
            "487/487 [==============================] - 520s 1s/step - loss: 0.3633 - accuracy: 0.8967 - val_loss: 0.4061 - val_accuracy: 0.8795\n",
            "Epoch 20/30\n",
            "487/487 [==============================] - 519s 1s/step - loss: 0.3731 - accuracy: 0.8938 - val_loss: 0.3090 - val_accuracy: 0.9196\n",
            "Epoch 21/30\n",
            "487/487 [==============================] - 516s 1s/step - loss: 0.3818 - accuracy: 0.8939 - val_loss: 0.2968 - val_accuracy: 0.9210\n",
            "Epoch 22/30\n",
            "487/487 [==============================] - 519s 1s/step - loss: 0.4128 - accuracy: 0.8832 - val_loss: 0.2901 - val_accuracy: 0.9285\n",
            "Epoch 23/30\n",
            "487/487 [==============================] - 518s 1s/step - loss: 0.4508 - accuracy: 0.8733 - val_loss: 0.3074 - val_accuracy: 0.9157\n",
            "Epoch 24/30\n",
            "487/487 [==============================] - 520s 1s/step - loss: 0.5464 - accuracy: 0.8481 - val_loss: 0.3767 - val_accuracy: 0.9075\n",
            "Epoch 25/30\n",
            "487/487 [==============================] - 517s 1s/step - loss: 0.7450 - accuracy: 0.7982 - val_loss: 0.8458 - val_accuracy: 0.7430\n",
            "Epoch 26/30\n",
            "487/487 [==============================] - 518s 1s/step - loss: 1.3658 - accuracy: 0.5779 - val_loss: 2.2333 - val_accuracy: 0.1949\n",
            "Epoch 27/30\n",
            "487/487 [==============================] - 519s 1s/step - loss: 2.2420 - accuracy: 0.1874 - val_loss: 2.2341 - val_accuracy: 0.1949\n",
            "Epoch 28/30\n",
            "487/487 [==============================] - 519s 1s/step - loss: 2.2420 - accuracy: 0.1869 - val_loss: 2.2331 - val_accuracy: 0.1949\n",
            "Epoch 29/30\n",
            "487/487 [==============================] - 520s 1s/step - loss: 2.2407 - accuracy: 0.1897 - val_loss: 2.2345 - val_accuracy: 0.1949\n",
            "Epoch 30/30\n",
            "487/487 [==============================] - 523s 1s/step - loss: 2.2402 - accuracy: 0.1875 - val_loss: 2.2376 - val_accuracy: 0.1949\n"
          ],
          "name": "stdout"
        }
      ]
    },
    {
      "cell_type": "code",
      "metadata": {
        "id": "AliZVEA87HqY",
        "colab": {
          "base_uri": "https://localhost:8080/",
          "height": 287
        },
        "outputId": "73a83fe0-34df-4fbf-acc5-3b7502d2a295"
      },
      "source": [
        "plt.semilogx(history.history['lr'], history.history['loss'])\n",
        "plt.axis([1e-4, 1e-1, 0, 4])\n",
        "plt.xlabel('Learning Rate')\n",
        "plt.ylabel('Training Loss')\n",
        "plt.show()\n"
      ],
      "execution_count": null,
      "outputs": [
        {
          "output_type": "display_data",
          "data": {
            "image/png": "[encoded data removed]",
            "text/plain": [
              "<Figure size 432x288 with 1 Axes>"
            ]
          },
          "metadata": {
            "tags": [],
            "needs_background": "light"
          }
        }
      ]
    },
    {
      "cell_type": "code",
      "metadata": {
        "id": "ig0ox3IV7Z_M"
      },
      "source": [
        "keras.backend.clear_session()\n",
        "\n",
        "model = keras.Sequential([\n",
        "    keras.layers.Conv2D(32, (3, 3), padding='same', \n",
        "                           activation='relu',\n",
        "                           input_shape=(32, 32, 3)),\n",
        "    keras.layers.BatchNormalization(),\n",
        "    keras.layers.Conv2D(32, (3, 3), padding='same', \n",
        "                        activation='relu'),\n",
        "    keras.layers.MaxPooling2D((2, 2)),\n",
        "    keras.layers.Dropout(0.3),\n",
        "    \n",
        "    keras.layers.Conv2D(64, (3, 3), padding='same', \n",
        "                           activation='relu'),\n",
        "    keras.layers.BatchNormalization(),\n",
        "    keras.layers.Conv2D(64, (3, 3), padding='same',\n",
        "                        activation='relu'),\n",
        "    keras.layers.MaxPooling2D((2, 2)),\n",
        "    keras.layers.Dropout(0.3),\n",
        "    \n",
        "    keras.layers.Conv2D(128, (3, 3), padding='same', \n",
        "                           activation='relu'),\n",
        "    keras.layers.BatchNormalization(),\n",
        "    keras.layers.Conv2D(128, (3, 3), padding='same',\n",
        "                        activation='relu'),\n",
        "    keras.layers.MaxPooling2D((2, 2)),\n",
        "    keras.layers.Dropout(0.3),\n",
        "    \n",
        "    keras.layers.Flatten(),\n",
        "    keras.layers.Dense(128, activation='relu'),\n",
        "    keras.layers.Dropout(0.4),    \n",
        "    keras.layers.Dense(10,  activation='softmax')\n",
        "])\n",
        "\n",
        "early_stopping = keras.callbacks.EarlyStopping(patience=8)\n",
        "optimizer = keras.optimizers.Adam(learning_rate=1e-3, amsgrad=True)\n",
        "model_checkpoint = keras.callbacks.ModelCheckpoint(\n",
        "                   '/kaggle/working/best_cnn.h5', \n",
        "                   save_best_only=True)\n",
        "model.compile(optimizer=optimizer,\n",
        "              loss='categorical_crossentropy',\n",
        "              metrics=['accuracy'])"
      ],
      "execution_count": 30,
      "outputs": []
    },
    {
      "cell_type": "code",
      "metadata": {
        "id": "7jq7IgHW7hvc",
        "colab": {
          "base_uri": "https://localhost:8080/"
        },
        "outputId": "1a1a265a-c198-4879-c225-15adecb4ddb4"
      },
      "source": [
        "model.summary()"
      ],
      "execution_count": null,
      "outputs": [
        {
          "output_type": "stream",
          "text": [
            "Model: \"sequential\"\n",
            "_________________________________________________________________\n",
            "Layer (type)                 Output Shape              Param #   \n",
            "=================================================================\n",
            "conv2d (Conv2D)              (None, 32, 32, 32)        896       \n",
            "_________________________________________________________________\n",
            "batch_normalization (BatchNo (None, 32, 32, 32)        128       \n",
            "_________________________________________________________________\n",
            "conv2d_1 (Conv2D)            (None, 32, 32, 32)        9248      \n",
            "_________________________________________________________________\n",
            "max_pooling2d (MaxPooling2D) (None, 16, 16, 32)        0         \n",
            "_________________________________________________________________\n",
            "dropout (Dropout)            (None, 16, 16, 32)        0         \n",
            "_________________________________________________________________\n",
            "conv2d_2 (Conv2D)            (None, 16, 16, 64)        18496     \n",
            "_________________________________________________________________\n",
            "batch_normalization_1 (Batch (None, 16, 16, 64)        256       \n",
            "_________________________________________________________________\n",
            "conv2d_3 (Conv2D)            (None, 16, 16, 64)        36928     \n",
            "_________________________________________________________________\n",
            "max_pooling2d_1 (MaxPooling2 (None, 8, 8, 64)          0         \n",
            "_________________________________________________________________\n",
            "dropout_1 (Dropout)          (None, 8, 8, 64)          0         \n",
            "_________________________________________________________________\n",
            "conv2d_4 (Conv2D)            (None, 8, 8, 128)         73856     \n",
            "_________________________________________________________________\n",
            "batch_normalization_2 (Batch (None, 8, 8, 128)         512       \n",
            "_________________________________________________________________\n",
            "conv2d_5 (Conv2D)            (None, 8, 8, 128)         147584    \n",
            "_________________________________________________________________\n",
            "max_pooling2d_2 (MaxPooling2 (None, 4, 4, 128)         0         \n",
            "_________________________________________________________________\n",
            "dropout_2 (Dropout)          (None, 4, 4, 128)         0         \n",
            "_________________________________________________________________\n",
            "flatten (Flatten)            (None, 2048)              0         \n",
            "_________________________________________________________________\n",
            "dense (Dense)                (None, 128)               262272    \n",
            "_________________________________________________________________\n",
            "dropout_3 (Dropout)          (None, 128)               0         \n",
            "_________________________________________________________________\n",
            "dense_1 (Dense)              (None, 10)                1290      \n",
            "=================================================================\n",
            "Total params: 551,466\n",
            "Trainable params: 551,018\n",
            "Non-trainable params: 448\n",
            "_________________________________________________________________\n"
          ],
          "name": "stdout"
        }
      ]
    },
    {
      "cell_type": "code",
      "metadata": {
        "id": "KI49oyDe7p7q",
        "outputId": "2a73bc0e-2e41-4366-9f6b-fc1e6cd850d5",
        "colab": {
          "base_uri": "https://localhost:8080/"
        }
      },
      "source": [
        "history = model.fit(datagen.flow(X_train, y_train, batch_size=128),\n",
        "                              epochs=70, validation_data=(X_val, y_val),\n",
        "                              callbacks=[early_stopping, model_checkpoint])"
      ],
      "execution_count": 31,
      "outputs": [
        {
          "output_type": "stream",
          "text": [
            "Epoch 1/70\n",
            "487/487 [==============================] - 570s 1s/step - loss: 2.3565 - accuracy: 0.1744 - val_loss: 2.0080 - val_accuracy: 0.2985\n",
            "Epoch 2/70\n",
            "487/487 [==============================] - 548s 1s/step - loss: 1.9443 - accuracy: 0.2778 - val_loss: 1.0862 - val_accuracy: 0.6202\n",
            "Epoch 3/70\n",
            "487/487 [==============================] - 548s 1s/step - loss: 1.2298 - accuracy: 0.5580 - val_loss: 0.4493 - val_accuracy: 0.8645\n",
            "Epoch 4/70\n",
            "487/487 [==============================] - 547s 1s/step - loss: 0.6139 - accuracy: 0.8140 - val_loss: 0.3030 - val_accuracy: 0.9124\n",
            "Epoch 5/70\n",
            "487/487 [==============================] - 546s 1s/step - loss: 0.4429 - accuracy: 0.8702 - val_loss: 0.2874 - val_accuracy: 0.9177\n",
            "Epoch 6/70\n",
            "487/487 [==============================] - 545s 1s/step - loss: 0.3868 - accuracy: 0.8898 - val_loss: 0.2570 - val_accuracy: 0.9285\n",
            "Epoch 7/70\n",
            "487/487 [==============================] - 547s 1s/step - loss: 0.3399 - accuracy: 0.9014 - val_loss: 0.2644 - val_accuracy: 0.9270\n",
            "Epoch 8/70\n",
            "487/487 [==============================] - 547s 1s/step - loss: 0.3201 - accuracy: 0.9083 - val_loss: 0.2327 - val_accuracy: 0.9358\n",
            "Epoch 9/70\n",
            "487/487 [==============================] - 548s 1s/step - loss: 0.3007 - accuracy: 0.9140 - val_loss: 0.2435 - val_accuracy: 0.9327\n",
            "Epoch 10/70\n",
            "487/487 [==============================] - 547s 1s/step - loss: 0.2864 - accuracy: 0.9184 - val_loss: 0.2044 - val_accuracy: 0.9465\n",
            "Epoch 11/70\n",
            "487/487 [==============================] - 548s 1s/step - loss: 0.2771 - accuracy: 0.9211 - val_loss: 0.2480 - val_accuracy: 0.9348\n",
            "Epoch 12/70\n",
            "487/487 [==============================] - 547s 1s/step - loss: 0.2621 - accuracy: 0.9250 - val_loss: 0.2388 - val_accuracy: 0.9328\n",
            "Epoch 13/70\n",
            "487/487 [==============================] - 547s 1s/step - loss: 0.2523 - accuracy: 0.9281 - val_loss: 0.2155 - val_accuracy: 0.9433\n",
            "Epoch 14/70\n",
            "487/487 [==============================] - 548s 1s/step - loss: 0.2451 - accuracy: 0.9302 - val_loss: 0.2067 - val_accuracy: 0.9469\n",
            "Epoch 15/70\n",
            "487/487 [==============================] - 547s 1s/step - loss: 0.2355 - accuracy: 0.9328 - val_loss: 0.2146 - val_accuracy: 0.9408\n",
            "Epoch 16/70\n",
            "487/487 [==============================] - 550s 1s/step - loss: 0.2276 - accuracy: 0.9351 - val_loss: 0.2001 - val_accuracy: 0.9510\n",
            "Epoch 17/70\n",
            "487/487 [==============================] - 552s 1s/step - loss: 0.2290 - accuracy: 0.9342 - val_loss: 0.1895 - val_accuracy: 0.9512\n",
            "Epoch 18/70\n",
            "487/487 [==============================] - 548s 1s/step - loss: 0.2193 - accuracy: 0.9373 - val_loss: 0.1961 - val_accuracy: 0.9494\n",
            "Epoch 19/70\n",
            "487/487 [==============================] - 548s 1s/step - loss: 0.2225 - accuracy: 0.9379 - val_loss: 0.1961 - val_accuracy: 0.9497\n",
            "Epoch 20/70\n",
            "487/487 [==============================] - 549s 1s/step - loss: 0.2162 - accuracy: 0.9371 - val_loss: 0.1845 - val_accuracy: 0.9526\n",
            "Epoch 21/70\n",
            "487/487 [==============================] - 547s 1s/step - loss: 0.2043 - accuracy: 0.9409 - val_loss: 0.1960 - val_accuracy: 0.9487\n",
            "Epoch 22/70\n",
            "487/487 [==============================] - 547s 1s/step - loss: 0.2092 - accuracy: 0.9387 - val_loss: 0.1901 - val_accuracy: 0.9539\n",
            "Epoch 23/70\n",
            "487/487 [==============================] - 547s 1s/step - loss: 0.1990 - accuracy: 0.9423 - val_loss: 0.1902 - val_accuracy: 0.9509\n",
            "Epoch 24/70\n",
            "487/487 [==============================] - 548s 1s/step - loss: 0.2011 - accuracy: 0.9416 - val_loss: 0.1898 - val_accuracy: 0.9535\n",
            "Epoch 25/70\n",
            "487/487 [==============================] - 546s 1s/step - loss: 0.1924 - accuracy: 0.9445 - val_loss: 0.1804 - val_accuracy: 0.9552\n",
            "Epoch 26/70\n",
            "487/487 [==============================] - 546s 1s/step - loss: 0.1954 - accuracy: 0.9448 - val_loss: 0.2361 - val_accuracy: 0.9341\n",
            "Epoch 27/70\n",
            "487/487 [==============================] - 547s 1s/step - loss: 0.1865 - accuracy: 0.9446 - val_loss: 0.1888 - val_accuracy: 0.9509\n",
            "Epoch 28/70\n",
            "487/487 [==============================] - 546s 1s/step - loss: 0.1914 - accuracy: 0.9446 - val_loss: 0.1976 - val_accuracy: 0.9506\n",
            "Epoch 29/70\n",
            "487/487 [==============================] - 546s 1s/step - loss: 0.1777 - accuracy: 0.9472 - val_loss: 0.1864 - val_accuracy: 0.9522\n",
            "Epoch 30/70\n",
            "487/487 [==============================] - 546s 1s/step - loss: 0.1735 - accuracy: 0.9491 - val_loss: 0.1871 - val_accuracy: 0.9556\n",
            "Epoch 31/70\n",
            "487/487 [==============================] - 546s 1s/step - loss: 0.1809 - accuracy: 0.9476 - val_loss: 0.2061 - val_accuracy: 0.9492\n",
            "Epoch 32/70\n",
            "487/487 [==============================] - 549s 1s/step - loss: 0.1762 - accuracy: 0.9500 - val_loss: 0.1856 - val_accuracy: 0.9540\n",
            "Epoch 33/70\n",
            "487/487 [==============================] - 548s 1s/step - loss: 0.1760 - accuracy: 0.9474 - val_loss: 0.2050 - val_accuracy: 0.9494\n"
          ],
          "name": "stdout"
        }
      ]
    },
    {
      "cell_type": "code",
      "metadata": {
        "id": "dHLAJmBUoXwQ"
      },
      "source": [
        "train_acc = history.history['accuracy']\n",
        "val_acc = history.history['val_accuracy']\n",
        "\n",
        "train_loss = history.history['loss']\n",
        "val_loss = history.history['val_loss']"
      ],
      "execution_count": 32,
      "outputs": []
    },
    {
      "cell_type": "code",
      "metadata": {
        "id": "SVIgY_1Txzes",
        "outputId": "896e7f73-50d5-4d82-c8af-1d0c2fd3493f",
        "colab": {
          "base_uri": "https://localhost:8080/",
          "height": 607
        }
      },
      "source": [
        "plt.figure(figsize=(20, 10))\n",
        "\n",
        "plt.subplot(1, 2, 1)\n",
        "plt.plot(train_acc, label='Training Accuracy')\n",
        "plt.plot(val_acc, label='Validation Accuracy')\n",
        "plt.legend()\n",
        "plt.title('Epochs vs. Training and Validation Accuracy')\n",
        "    \n",
        "plt.subplot(1, 2, 2)\n",
        "plt.plot(train_loss, label='Training Loss')\n",
        "plt.plot(val_loss, label='Validation Loss')\n",
        "plt.legend()\n",
        "plt.title('Epochs vs. Training and Validation Loss')\n",
        "\n",
        "plt.show()"
      ],
      "execution_count": 33,
      "outputs": [
        {
          "output_type": "display_data",
          "data": {
            "image/png": "[encoded data removed]",
            "text/plain": [
              "<Figure size 1440x720 with 2 Axes>"
            ]
          },
          "metadata": {
            "tags": [],
            "needs_background": "light"
          }
        }
      ]
    },
    {
      "cell_type": "code",
      "metadata": {
        "id": "jGUd-PsNx23k",
        "outputId": "e6daf54a-cf3e-4024-9ebe-3949032ff43e",
        "colab": {
          "base_uri": "https://localhost:8080/"
        }
      },
      "source": [
        "test_loss, test_acc = model.evaluate(x=test_images, y=test_labels, verbose=0)\n",
        "\n",
        "print('Test accuracy is: {:0.4f} \\nTest loss is: {:0.4f}'.\n",
        "      format(test_acc, test_loss))\n"
      ],
      "execution_count": 34,
      "outputs": [
        {
          "output_type": "stream",
          "text": [
            "Test accuracy is: 0.9550 \n",
            "Test loss is: 0.1863\n"
          ],
          "name": "stdout"
        }
      ]
    }
  ]
}